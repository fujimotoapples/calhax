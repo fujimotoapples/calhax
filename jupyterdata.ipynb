{
 "cells": [
  {
   "cell_type": "code",
   "execution_count": 43,
   "id": "f30f4420",
   "metadata": {},
   "outputs": [],
   "source": [
    "import requests\n",
    "import datetime\n",
    "import time\n",
    "import json\n",
    "import pandas as pd\n",
    "import numpy as np"
   ]
  },
  {
   "cell_type": "code",
   "execution_count": 44,
   "id": "94df229c",
   "metadata": {},
   "outputs": [],
   "source": [
    "with open('wave.json', \"r\") as f:\n",
    "    wave_dictionary=json.load(f)"
   ]
  },
  {
   "cell_type": "code",
   "execution_count": 45,
   "id": "d2b3346b",
   "metadata": {},
   "outputs": [
    {
     "name": "stdout",
     "output_type": "stream",
     "text": [
      "\n"
     ]
    }
   ],
   "source": [
    "#this converts unix time to standard time for ease of reading\n",
    "import wave\n",
    "\n",
    "\n",
    "def timemaker(dictionary):\n",
    "    return(time.strftime(\"%a, %d %b %Y %H:%M:%S +0000\",time.localtime(dictionary[\"timestamp\"])))\n",
    "#wavemaker takes in the dictionary and converts into dataframe with relevant info for each timestamp\n",
    "at_a_time=wave_dictionary['data']['wave'][100]['swells']\n",
    "def wavemaker(a_time):\n",
    "    wave=pd.DataFrame.from_dict(a_time,orient='columns').drop(columns=[\"optimalScore\",\"directionMin\"])\n",
    "    \n",
    "    return wave\n",
    "print()"
   ]
  },
  {
   "cell_type": "code",
   "execution_count": 46,
   "id": "ee25f609",
   "metadata": {},
   "outputs": [
    {
     "data": {
      "text/html": [
       "<div>\n",
       "<style scoped>\n",
       "    .dataframe tbody tr th:only-of-type {\n",
       "        vertical-align: middle;\n",
       "    }\n",
       "\n",
       "    .dataframe tbody tr th {\n",
       "        vertical-align: top;\n",
       "    }\n",
       "\n",
       "    .dataframe thead th {\n",
       "        text-align: right;\n",
       "    }\n",
       "</style>\n",
       "<table border=\"1\" class=\"dataframe\">\n",
       "  <thead>\n",
       "    <tr style=\"text-align: right;\">\n",
       "      <th></th>\n",
       "      <th>0</th>\n",
       "      <th>1</th>\n",
       "      <th>2</th>\n",
       "      <th>3</th>\n",
       "      <th>4</th>\n",
       "      <th>5</th>\n",
       "      <th>6</th>\n",
       "      <th>7</th>\n",
       "      <th>8</th>\n",
       "      <th>9</th>\n",
       "      <th>10</th>\n",
       "      <th>11</th>\n",
       "      <th>12</th>\n",
       "      <th>13</th>\n",
       "      <th>14</th>\n",
       "      <th>15</th>\n",
       "      <th>16</th>\n",
       "      <th>17</th>\n",
       "    </tr>\n",
       "  </thead>\n",
       "  <tbody>\n",
       "    <tr>\n",
       "      <th>variable</th>\n",
       "      <td>height</td>\n",
       "      <td>height</td>\n",
       "      <td>height</td>\n",
       "      <td>height</td>\n",
       "      <td>height</td>\n",
       "      <td>height</td>\n",
       "      <td>period</td>\n",
       "      <td>period</td>\n",
       "      <td>period</td>\n",
       "      <td>period</td>\n",
       "      <td>period</td>\n",
       "      <td>period</td>\n",
       "      <td>direction</td>\n",
       "      <td>direction</td>\n",
       "      <td>direction</td>\n",
       "      <td>direction</td>\n",
       "      <td>direction</td>\n",
       "      <td>direction</td>\n",
       "    </tr>\n",
       "    <tr>\n",
       "      <th>value</th>\n",
       "      <td>0.0</td>\n",
       "      <td>7.12723</td>\n",
       "      <td>1.65026</td>\n",
       "      <td>0.89747</td>\n",
       "      <td>0.0</td>\n",
       "      <td>1.69019</td>\n",
       "      <td>0.0</td>\n",
       "      <td>13.0</td>\n",
       "      <td>13.0</td>\n",
       "      <td>9.0</td>\n",
       "      <td>0.0</td>\n",
       "      <td>16.0</td>\n",
       "      <td>0.0</td>\n",
       "      <td>294.24274</td>\n",
       "      <td>217.38385</td>\n",
       "      <td>178.05133</td>\n",
       "      <td>0.0</td>\n",
       "      <td>192.71021</td>\n",
       "    </tr>\n",
       "  </tbody>\n",
       "</table>\n",
       "</div>"
      ],
      "text/plain": [
       "              0        1        2        3       4        5       6       7   \\\n",
       "variable  height   height   height   height  height   height  period  period   \n",
       "value        0.0  7.12723  1.65026  0.89747     0.0  1.69019     0.0    13.0   \n",
       "\n",
       "              8       9       10      11         12         13         14  \\\n",
       "variable  period  period  period  period  direction  direction  direction   \n",
       "value       13.0     9.0     0.0    16.0        0.0  294.24274  217.38385   \n",
       "\n",
       "                 15         16         17  \n",
       "variable  direction  direction  direction  \n",
       "value     178.05133        0.0  192.71021  "
      ]
     },
     "execution_count": 46,
     "metadata": {},
     "output_type": "execute_result"
    }
   ],
   "source": [
    "wave_labels=np.array(['height1', 'height2', 'height3', 'height4', 'height5', 'height6',\n",
    "        'period1', 'period2', 'period3', 'period4', 'period5', 'period6',\n",
    "        'direction1', 'direction2', 'direction3', 'direction4', 'direction5',\n",
    "        'direction6'])\n",
    "wave_values = wavemaker(at_a_time).melt().transpose()\n",
    "wave_values.drop('variable')\n",
    "wave_values"
   ]
  }
 ],
 "metadata": {
  "kernelspec": {
   "display_name": "Python 3 (ipykernel)",
   "language": "python",
   "name": "python3"
  },
  "language_info": {
   "codemirror_mode": {
    "name": "ipython",
    "version": 3
   },
   "file_extension": ".py",
   "mimetype": "text/x-python",
   "name": "python",
   "nbconvert_exporter": "python",
   "pygments_lexer": "ipython3",
   "version": "3.9.12"
  },
  "vscode": {
   "interpreter": {
    "hash": "aee8b7b246df8f9039afb4144a1f6fd8d2ca17a180786b69acc140d282b71a49"
   }
  }
 },
 "nbformat": 4,
 "nbformat_minor": 5
}
