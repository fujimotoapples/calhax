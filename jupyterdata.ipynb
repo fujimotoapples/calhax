{
 "cells": [
  {
   "cell_type": "code",
   "execution_count": 1,
   "id": "f30f4420",
   "metadata": {},
   "outputs": [],
   "source": [
    "import requests"
   ]
  },
  {
   "cell_type": "code",
   "execution_count": 2,
   "id": "94df229c",
   "metadata": {},
   "outputs": [],
   "source": [
    "import json"
   ]
  },
  {
   "cell_type": "code",
   "execution_count": 3,
   "id": "ee25f609",
   "metadata": {},
   "outputs": [],
   "source": [
    "import pandas as pd"
   ]
  },
  {
   "cell_type": "code",
   "execution_count": 4,
   "id": "58604872",
   "metadata": {},
   "outputs": [],
   "source": [
    "import numpy as np"
   ]
  },
  {
   "cell_type": "code",
   "execution_count": 5,
   "id": "b5d4b3de",
   "metadata": {},
   "outputs": [],
   "source": [
    "wind_request = requests.get(\"https://services.surfline.com/kbyg/spots/forecasts/wind?spotId=5842041f4e65fad6a770880b\")"
   ]
  },
  {
   "cell_type": "code",
   "execution_count": 6,
   "id": "a27934b6",
   "metadata": {},
   "outputs": [],
   "source": [
    "wind_json = wind_request.json()"
   ]
  },
  {
   "cell_type": "code",
   "execution_count": 7,
   "id": "b216da02",
   "metadata": {},
   "outputs": [],
   "source": [
    "with open(\"wind.json\", \"w\") as f:\n",
    "    json.dump(wind_json, f)"
   ]
  },
  {
   "cell_type": "code",
   "execution_count": 8,
   "id": "bd4d9e0f",
   "metadata": {},
   "outputs": [],
   "source": [
    "wind_df = pd.DataFrame(wind_json)"
   ]
  },
  {
   "cell_type": "code",
   "execution_count": 13,
   "id": "74a31d60",
   "metadata": {},
   "outputs": [
    {
     "data": {
      "text/html": [
       "<div>\n",
       "<style scoped>\n",
       "    .dataframe tbody tr th:only-of-type {\n",
       "        vertical-align: middle;\n",
       "    }\n",
       "\n",
       "    .dataframe tbody tr th {\n",
       "        vertical-align: top;\n",
       "    }\n",
       "\n",
       "    .dataframe thead th {\n",
       "        text-align: right;\n",
       "    }\n",
       "</style>\n",
       "<table border=\"1\" class=\"dataframe\">\n",
       "  <thead>\n",
       "    <tr style=\"text-align: right;\">\n",
       "      <th></th>\n",
       "      <th>associated</th>\n",
       "      <th>data</th>\n",
       "    </tr>\n",
       "  </thead>\n",
       "  <tbody>\n",
       "    <tr>\n",
       "      <th>units</th>\n",
       "      <td>{'temperature': 'F', 'tideHeight': 'FT', 'swel...</td>\n",
       "      <td>NaN</td>\n",
       "    </tr>\n",
       "    <tr>\n",
       "      <th>utcOffset</th>\n",
       "      <td>-7</td>\n",
       "      <td>NaN</td>\n",
       "    </tr>\n",
       "    <tr>\n",
       "      <th>location</th>\n",
       "      <td>{'lon': -121.9672887511276, 'lat': 36.95782765...</td>\n",
       "      <td>NaN</td>\n",
       "    </tr>\n",
       "    <tr>\n",
       "      <th>wind</th>\n",
       "      <td>NaN</td>\n",
       "      <td>[{'timestamp': 1665817200, 'utcOffset': -7, 's...</td>\n",
       "    </tr>\n",
       "  </tbody>\n",
       "</table>\n",
       "</div>"
      ],
      "text/plain": [
       "                                                  associated  \\\n",
       "units      {'temperature': 'F', 'tideHeight': 'FT', 'swel...   \n",
       "utcOffset                                                 -7   \n",
       "location   {'lon': -121.9672887511276, 'lat': 36.95782765...   \n",
       "wind                                                     NaN   \n",
       "\n",
       "                                                        data  \n",
       "units                                                    NaN  \n",
       "utcOffset                                                NaN  \n",
       "location                                                 NaN  \n",
       "wind       [{'timestamp': 1665817200, 'utcOffset': -7, 's...  "
      ]
     },
     "execution_count": 13,
     "metadata": {},
     "output_type": "execute_result"
    }
   ],
   "source": [
    "wind_df.head(10)"
   ]
  },
  {
   "cell_type": "code",
   "execution_count": null,
   "id": "05b67e61",
   "metadata": {},
   "outputs": [],
   "source": []
  }
 ],
 "metadata": {
  "kernelspec": {
   "display_name": "Python 3 (ipykernel)",
   "language": "python",
   "name": "python3"
  },
  "language_info": {
   "codemirror_mode": {
    "name": "ipython",
    "version": 3
   },
   "file_extension": ".py",
   "mimetype": "text/x-python",
   "name": "python",
   "nbconvert_exporter": "python",
   "pygments_lexer": "ipython3",
   "version": "3.9.6"
  }
 },
 "nbformat": 4,
 "nbformat_minor": 5
}
