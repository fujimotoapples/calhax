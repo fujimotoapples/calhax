{
 "cells": [
  {
   "cell_type": "code",
   "execution_count": 61,
   "id": "f30f4420",
   "metadata": {},
   "outputs": [],
   "source": [
    "import requests\n",
    "import datetime\n",
    "import time\n",
    "import json\n",
    "import pandas as pd\n",
    "import numpy as np"
   ]
  },
  {
   "cell_type": "code",
   "execution_count": 62,
   "id": "94df229c",
   "metadata": {},
   "outputs": [],
   "source": [
    "with open('wave.json', \"r\") as f:\n",
    "    wave_dictionary=json.load(f)"
   ]
  },
  {
   "cell_type": "code",
   "execution_count": 75,
   "id": "d2b3346b",
   "metadata": {},
   "outputs": [],
   "source": [
    "#this converts unix time to standard time for ease of reading\n",
    "def timemaker(dictionary):\n",
    "    return(time.strftime(\"%a, %d %b %Y %H:%M:%S +0000\",time.localtime(dictionary[\"timestamp\"])))\n",
    "\n",
    "#wavemaker takes in the dictionary and converts into dataframe with relevant info for each timestamp\n",
    "def wavemaker(dictionary):\n",
    "    wave=pd.DataFrame.from_dict(dictionary['swells'],orient='columns').drop(columns=[\"optimalScore\",\"directionMin\"])\n",
    "    return wave\n",
    "\n",
    "#the dictionary is at the timestamp level. Same dictionary works on both functions\n"
   ]
  },
  {
   "cell_type": "code",
   "execution_count": 82,
   "id": "ee25f609",
   "metadata": {},
   "outputs": [
    {
     "data": {
      "text/html": [
       "<div>\n",
       "<style scoped>\n",
       "    .dataframe tbody tr th:only-of-type {\n",
       "        vertical-align: middle;\n",
       "    }\n",
       "\n",
       "    .dataframe tbody tr th {\n",
       "        vertical-align: top;\n",
       "    }\n",
       "\n",
       "    .dataframe thead th {\n",
       "        text-align: right;\n",
       "    }\n",
       "</style>\n",
       "<table border=\"1\" class=\"dataframe\">\n",
       "  <thead>\n",
       "    <tr style=\"text-align: right;\">\n",
       "      <th></th>\n",
       "      <th>height1</th>\n",
       "      <th>height2</th>\n",
       "      <th>height3</th>\n",
       "      <th>height4</th>\n",
       "      <th>height5</th>\n",
       "      <th>height6</th>\n",
       "      <th>period1</th>\n",
       "      <th>period2</th>\n",
       "      <th>period3</th>\n",
       "      <th>period4</th>\n",
       "      <th>period5</th>\n",
       "      <th>period6</th>\n",
       "      <th>direction1</th>\n",
       "      <th>direction2</th>\n",
       "      <th>direction3</th>\n",
       "      <th>direction4</th>\n",
       "      <th>direction5</th>\n",
       "      <th>direction6</th>\n",
       "    </tr>\n",
       "  </thead>\n",
       "  <tbody>\n",
       "    <tr>\n",
       "      <th>value</th>\n",
       "      <td>0.0</td>\n",
       "      <td>7.12723</td>\n",
       "      <td>1.65026</td>\n",
       "      <td>0.89747</td>\n",
       "      <td>0.0</td>\n",
       "      <td>1.69019</td>\n",
       "      <td>0.0</td>\n",
       "      <td>13.0</td>\n",
       "      <td>13.0</td>\n",
       "      <td>9.0</td>\n",
       "      <td>0.0</td>\n",
       "      <td>16.0</td>\n",
       "      <td>0.0</td>\n",
       "      <td>294.24274</td>\n",
       "      <td>217.38385</td>\n",
       "      <td>178.05133</td>\n",
       "      <td>0.0</td>\n",
       "      <td>192.71021</td>\n",
       "    </tr>\n",
       "  </tbody>\n",
       "</table>\n",
       "</div>"
      ],
      "text/plain": [
       "      height1  height2  height3  height4 height5  height6 period1 period2  \\\n",
       "value     0.0  7.12723  1.65026  0.89747     0.0  1.69019     0.0    13.0   \n",
       "\n",
       "      period3 period4 period5 period6 direction1 direction2 direction3  \\\n",
       "value    13.0     9.0     0.0    16.0        0.0  294.24274  217.38385   \n",
       "\n",
       "      direction4 direction5 direction6  \n",
       "value  178.05133        0.0  192.71021  "
      ]
     },
     "execution_count": 82,
     "metadata": {},
     "output_type": "execute_result"
    }
   ],
   "source": [
    "at_a_time=wave_dictionary['data']['wave'][100]#['swells']\n",
    "\n",
    "\n",
    "wave_labels=np.array(['height1', 'height2', 'height3', 'height4', 'height5', 'height6',\n",
    "        'period1', 'period2', 'period3', 'period4', 'period5', 'period6',\n",
    "        'direction1', 'direction2', 'direction3', 'direction4', 'direction5',\n",
    "        'direction6'])\n",
    "wave_values = wavemaker(at_a_time).melt().transpose()\n",
    "wave_values = wave_values.drop('variable')\n",
    "wave_values.columns = wave_labels\n",
    "wave_values"
   ]
  },
  {
   "cell_type": "code",
   "execution_count": 72,
   "id": "f3df8fb1",
   "metadata": {},
   "outputs": [
    {
     "data": {
      "text/plain": [
       "'Wed, 19 Oct 2022 04:00:00 +0000'"
      ]
     },
     "execution_count": 72,
     "metadata": {},
     "output_type": "execute_result"
    }
   ],
   "source": [
    "timemaker(at_a_time)"
   ]
  },
  {
   "cell_type": "code",
   "execution_count": 83,
   "id": "08488ec4",
   "metadata": {},
   "outputs": [],
   "source": [
    "wave_values['time'] = timemaker(at_a_time)"
   ]
  },
  {
   "cell_type": "code",
   "execution_count": 84,
   "id": "c580f75e",
   "metadata": {},
   "outputs": [
    {
     "data": {
      "text/html": [
       "<div>\n",
       "<style scoped>\n",
       "    .dataframe tbody tr th:only-of-type {\n",
       "        vertical-align: middle;\n",
       "    }\n",
       "\n",
       "    .dataframe tbody tr th {\n",
       "        vertical-align: top;\n",
       "    }\n",
       "\n",
       "    .dataframe thead th {\n",
       "        text-align: right;\n",
       "    }\n",
       "</style>\n",
       "<table border=\"1\" class=\"dataframe\">\n",
       "  <thead>\n",
       "    <tr style=\"text-align: right;\">\n",
       "      <th></th>\n",
       "      <th>height1</th>\n",
       "      <th>height2</th>\n",
       "      <th>height3</th>\n",
       "      <th>height4</th>\n",
       "      <th>height5</th>\n",
       "      <th>height6</th>\n",
       "      <th>period1</th>\n",
       "      <th>period2</th>\n",
       "      <th>period3</th>\n",
       "      <th>period4</th>\n",
       "      <th>period5</th>\n",
       "      <th>period6</th>\n",
       "      <th>direction1</th>\n",
       "      <th>direction2</th>\n",
       "      <th>direction3</th>\n",
       "      <th>direction4</th>\n",
       "      <th>direction5</th>\n",
       "      <th>direction6</th>\n",
       "      <th>time</th>\n",
       "    </tr>\n",
       "  </thead>\n",
       "  <tbody>\n",
       "    <tr>\n",
       "      <th>value</th>\n",
       "      <td>0.0</td>\n",
       "      <td>7.12723</td>\n",
       "      <td>1.65026</td>\n",
       "      <td>0.89747</td>\n",
       "      <td>0.0</td>\n",
       "      <td>1.69019</td>\n",
       "      <td>0.0</td>\n",
       "      <td>13.0</td>\n",
       "      <td>13.0</td>\n",
       "      <td>9.0</td>\n",
       "      <td>0.0</td>\n",
       "      <td>16.0</td>\n",
       "      <td>0.0</td>\n",
       "      <td>294.24274</td>\n",
       "      <td>217.38385</td>\n",
       "      <td>178.05133</td>\n",
       "      <td>0.0</td>\n",
       "      <td>192.71021</td>\n",
       "      <td>Wed, 19 Oct 2022 04:00:00 +0000</td>\n",
       "    </tr>\n",
       "  </tbody>\n",
       "</table>\n",
       "</div>"
      ],
      "text/plain": [
       "      height1  height2  height3  height4 height5  height6 period1 period2  \\\n",
       "value     0.0  7.12723  1.65026  0.89747     0.0  1.69019     0.0    13.0   \n",
       "\n",
       "      period3 period4 period5 period6 direction1 direction2 direction3  \\\n",
       "value    13.0     9.0     0.0    16.0        0.0  294.24274  217.38385   \n",
       "\n",
       "      direction4 direction5 direction6                             time  \n",
       "value  178.05133        0.0  192.71021  Wed, 19 Oct 2022 04:00:00 +0000  "
      ]
     },
     "execution_count": 84,
     "metadata": {},
     "output_type": "execute_result"
    }
   ],
   "source": [
    "wave_values"
   ]
  },
  {
   "cell_type": "code",
   "execution_count": 87,
   "id": "099d4719",
   "metadata": {},
   "outputs": [
    {
     "data": {
      "text/html": [
       "<div>\n",
       "<style scoped>\n",
       "    .dataframe tbody tr th:only-of-type {\n",
       "        vertical-align: middle;\n",
       "    }\n",
       "\n",
       "    .dataframe tbody tr th {\n",
       "        vertical-align: top;\n",
       "    }\n",
       "\n",
       "    .dataframe thead th {\n",
       "        text-align: right;\n",
       "    }\n",
       "</style>\n",
       "<table border=\"1\" class=\"dataframe\">\n",
       "  <thead>\n",
       "    <tr style=\"text-align: right;\">\n",
       "      <th></th>\n",
       "      <th>height1</th>\n",
       "      <th>height2</th>\n",
       "      <th>height3</th>\n",
       "      <th>height4</th>\n",
       "      <th>height5</th>\n",
       "      <th>height6</th>\n",
       "      <th>period1</th>\n",
       "      <th>period2</th>\n",
       "      <th>period3</th>\n",
       "      <th>period4</th>\n",
       "      <th>period5</th>\n",
       "      <th>period6</th>\n",
       "      <th>direction1</th>\n",
       "      <th>direction2</th>\n",
       "      <th>direction3</th>\n",
       "      <th>direction4</th>\n",
       "      <th>direction5</th>\n",
       "      <th>direction6</th>\n",
       "    </tr>\n",
       "    <tr>\n",
       "      <th>time</th>\n",
       "      <th></th>\n",
       "      <th></th>\n",
       "      <th></th>\n",
       "      <th></th>\n",
       "      <th></th>\n",
       "      <th></th>\n",
       "      <th></th>\n",
       "      <th></th>\n",
       "      <th></th>\n",
       "      <th></th>\n",
       "      <th></th>\n",
       "      <th></th>\n",
       "      <th></th>\n",
       "      <th></th>\n",
       "      <th></th>\n",
       "      <th></th>\n",
       "      <th></th>\n",
       "      <th></th>\n",
       "    </tr>\n",
       "  </thead>\n",
       "  <tbody>\n",
       "    <tr>\n",
       "      <th>Wed, 19 Oct 2022 04:00:00 +0000</th>\n",
       "      <td>0.0</td>\n",
       "      <td>7.12723</td>\n",
       "      <td>1.65026</td>\n",
       "      <td>0.89747</td>\n",
       "      <td>0.0</td>\n",
       "      <td>1.69019</td>\n",
       "      <td>0.0</td>\n",
       "      <td>13.0</td>\n",
       "      <td>13.0</td>\n",
       "      <td>9.0</td>\n",
       "      <td>0.0</td>\n",
       "      <td>16.0</td>\n",
       "      <td>0.0</td>\n",
       "      <td>294.24274</td>\n",
       "      <td>217.38385</td>\n",
       "      <td>178.05133</td>\n",
       "      <td>0.0</td>\n",
       "      <td>192.71021</td>\n",
       "    </tr>\n",
       "  </tbody>\n",
       "</table>\n",
       "</div>"
      ],
      "text/plain": [
       "                                height1  height2  height3  height4 height5  \\\n",
       "time                                                                         \n",
       "Wed, 19 Oct 2022 04:00:00 +0000     0.0  7.12723  1.65026  0.89747     0.0   \n",
       "\n",
       "                                 height6 period1 period2 period3 period4  \\\n",
       "time                                                                       \n",
       "Wed, 19 Oct 2022 04:00:00 +0000  1.69019     0.0    13.0    13.0     9.0   \n",
       "\n",
       "                                period5 period6 direction1 direction2  \\\n",
       "time                                                                    \n",
       "Wed, 19 Oct 2022 04:00:00 +0000     0.0    16.0        0.0  294.24274   \n",
       "\n",
       "                                direction3 direction4 direction5 direction6  \n",
       "time                                                                         \n",
       "Wed, 19 Oct 2022 04:00:00 +0000  217.38385  178.05133        0.0  192.71021  "
      ]
     },
     "execution_count": 87,
     "metadata": {},
     "output_type": "execute_result"
    }
   ],
   "source": [
    "wave_values.set_index('time')"
   ]
  },
  {
   "cell_type": "code",
   "execution_count": null,
   "id": "8333c6b7",
   "metadata": {},
   "outputs": [],
   "source": []
  }
 ],
 "metadata": {
  "kernelspec": {
   "display_name": "Python 3 (ipykernel)",
   "language": "python",
   "name": "python3"
  },
  "language_info": {
   "codemirror_mode": {
    "name": "ipython",
    "version": 3
   },
   "file_extension": ".py",
   "mimetype": "text/x-python",
   "name": "python",
   "nbconvert_exporter": "python",
   "pygments_lexer": "ipython3",
   "version": "3.9.12"
  },
  "vscode": {
   "interpreter": {
    "hash": "aee8b7b246df8f9039afb4144a1f6fd8d2ca17a180786b69acc140d282b71a49"
   }
  }
 },
 "nbformat": 4,
 "nbformat_minor": 5
}
