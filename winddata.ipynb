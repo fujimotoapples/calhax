{
 "cells": [
  {
   "cell_type": "code",
   "execution_count": 1,
   "metadata": {},
   "outputs": [],
   "source": [
    "import requests\n",
    "import datetime\n",
    "import time\n",
    "import json\n",
    "import pandas as pd\n",
    "import numpy as np"
   ]
  },
  {
   "cell_type": "code",
<<<<<<< HEAD
   "execution_count": 18,
=======
<<<<<<< HEAD
   "execution_count": 23,
=======
   "execution_count": 13,
>>>>>>> deff6f7a75d8d913748a8b216028fdaa12a312f3
   "metadata": {},
   "outputs": [],
   "source": [
    "with open('wind.json',\"r\") as w:\n",
    "    wind_dictionary=json.load(w)\n",
    "def windmaker(dictionary):\n",
    "    wind=pd.DataFrame.from_dict(dictionary,orient='columns').drop(columns=['utcOffset','optimalScore'])\n",
    "    return wind\n",
    "wind_dict=wind_dictionary['data']['wind']\n",
    "wind_values=windmaker(wind_dict)"
   ]
  },
  {
   "cell_type": "code",
<<<<<<< HEAD
   "execution_count": 17,
=======
   "execution_count": 14,
>>>>>>> fd4c70de50f2ee15a10e76b42d4da7904b1f5cce
>>>>>>> deff6f7a75d8d913748a8b216028fdaa12a312f3
   "metadata": {},
   "outputs": [
    {
     "data": {
      "text/html": [
       "<div>\n",
       "<style scoped>\n",
       "    .dataframe tbody tr th:only-of-type {\n",
       "        vertical-align: middle;\n",
       "    }\n",
       "\n",
       "    .dataframe tbody tr th {\n",
       "        vertical-align: top;\n",
       "    }\n",
       "\n",
       "    .dataframe thead th {\n",
       "        text-align: right;\n",
       "    }\n",
       "</style>\n",
       "<table border=\"1\" class=\"dataframe\">\n",
       "  <thead>\n",
       "    <tr style=\"text-align: right;\">\n",
       "      <th></th>\n",
       "      <th>timestamp</th>\n",
       "      <th>speed</th>\n",
       "      <th>direction</th>\n",
       "      <th>directionType</th>\n",
       "      <th>gust</th>\n",
       "    </tr>\n",
       "  </thead>\n",
       "  <tbody>\n",
       "    <tr>\n",
       "      <th>0</th>\n",
       "      <td>1665817200</td>\n",
       "      <td>2.77132</td>\n",
       "      <td>199.74937</td>\n",
       "      <td>Onshore</td>\n",
       "      <td>2.77132</td>\n",
       "    </tr>\n",
       "    <tr>\n",
       "      <th>1</th>\n",
       "      <td>1665820800</td>\n",
       "      <td>2.79966</td>\n",
       "      <td>188.49635</td>\n",
       "      <td>Onshore</td>\n",
       "      <td>2.79966</td>\n",
       "    </tr>\n",
       "    <tr>\n",
       "      <th>2</th>\n",
       "      <td>1665824400</td>\n",
       "      <td>1.96863</td>\n",
       "      <td>171.23939</td>\n",
       "      <td>Onshore</td>\n",
       "      <td>2.13823</td>\n",
       "    </tr>\n",
       "    <tr>\n",
       "      <th>3</th>\n",
       "      <td>1665828000</td>\n",
       "      <td>1.14990</td>\n",
       "      <td>147.57130</td>\n",
       "      <td>Onshore</td>\n",
       "      <td>1.36069</td>\n",
       "    </tr>\n",
       "    <tr>\n",
       "      <th>4</th>\n",
       "      <td>1665831600</td>\n",
       "      <td>0.98572</td>\n",
       "      <td>119.45582</td>\n",
       "      <td>Onshore</td>\n",
       "      <td>0.98572</td>\n",
       "    </tr>\n",
       "    <tr>\n",
       "      <th>...</th>\n",
       "      <td>...</td>\n",
       "      <td>...</td>\n",
       "      <td>...</td>\n",
       "      <td>...</td>\n",
       "      <td>...</td>\n",
       "    </tr>\n",
       "    <tr>\n",
       "      <th>403</th>\n",
       "      <td>1667268000</td>\n",
       "      <td>1.11662</td>\n",
       "      <td>120.50166</td>\n",
       "      <td>Onshore</td>\n",
       "      <td>1.57258</td>\n",
       "    </tr>\n",
       "    <tr>\n",
       "      <th>404</th>\n",
       "      <td>1667271600</td>\n",
       "      <td>1.11662</td>\n",
       "      <td>120.50166</td>\n",
       "      <td>Onshore</td>\n",
       "      <td>1.57258</td>\n",
       "    </tr>\n",
       "    <tr>\n",
       "      <th>405</th>\n",
       "      <td>1667275200</td>\n",
       "      <td>1.11662</td>\n",
       "      <td>120.50166</td>\n",
       "      <td>Onshore</td>\n",
       "      <td>1.57258</td>\n",
       "    </tr>\n",
       "    <tr>\n",
       "      <th>406</th>\n",
       "      <td>1667278800</td>\n",
       "      <td>1.11662</td>\n",
       "      <td>120.50166</td>\n",
       "      <td>Onshore</td>\n",
       "      <td>1.57258</td>\n",
       "    </tr>\n",
       "    <tr>\n",
       "      <th>407</th>\n",
       "      <td>1667282400</td>\n",
       "      <td>1.11662</td>\n",
       "      <td>120.50166</td>\n",
       "      <td>Onshore</td>\n",
       "      <td>1.57258</td>\n",
       "    </tr>\n",
       "  </tbody>\n",
       "</table>\n",
       "<p>408 rows × 5 columns</p>\n",
       "</div>"
      ],
      "text/plain": [
       "      timestamp    speed  direction directionType     gust\n",
       "0    1665817200  2.77132  199.74937       Onshore  2.77132\n",
       "1    1665820800  2.79966  188.49635       Onshore  2.79966\n",
       "2    1665824400  1.96863  171.23939       Onshore  2.13823\n",
       "3    1665828000  1.14990  147.57130       Onshore  1.36069\n",
       "4    1665831600  0.98572  119.45582       Onshore  0.98572\n",
       "..          ...      ...        ...           ...      ...\n",
       "403  1667268000  1.11662  120.50166       Onshore  1.57258\n",
       "404  1667271600  1.11662  120.50166       Onshore  1.57258\n",
       "405  1667275200  1.11662  120.50166       Onshore  1.57258\n",
       "406  1667278800  1.11662  120.50166       Onshore  1.57258\n",
       "407  1667282400  1.11662  120.50166       Onshore  1.57258\n",
       "\n",
       "[408 rows x 5 columns]"
      ]
     },
<<<<<<< HEAD
     "execution_count": 17,
=======
<<<<<<< HEAD
     "execution_count": 23,
=======
     "execution_count": 14,
>>>>>>> fd4c70de50f2ee15a10e76b42d4da7904b1f5cce
>>>>>>> deff6f7a75d8d913748a8b216028fdaa12a312f3
     "metadata": {},
     "output_type": "execute_result"
    }
   ],
   "source": [
<<<<<<< HEAD
    "with open('wind.json',\"r\") as w:\n",
    "    wind_dictionary=json.load(w)\n",
    "def windmaker(dictionary):\n",
    "    wind=pd.DataFrame.from_dict(dictionary['wind'],orient='columns').drop(columns=['utcOffset','optimalScore'])\n",
    "    return wind\n",
    "at_a_moment=wind_dictionary['data']#['wind']\n",
    "wind_values=windmaker(at_a_moment)\n",
=======
>>>>>>> fd4c70de50f2ee15a10e76b42d4da7904b1f5cce
    "wind_values"
   ]
<<<<<<< HEAD
  },
  {
   "cell_type": "code",
   "execution_count": null,
   "metadata": {},
   "outputs": [],
   "source": [
    "win"
   ]
=======
>>>>>>> deff6f7a75d8d913748a8b216028fdaa12a312f3
  }
 ],
 "metadata": {
  "kernelspec": {
   "display_name": "Python 3 (ipykernel)",
   "language": "python",
   "name": "python3"
  },
  "language_info": {
   "codemirror_mode": {
    "name": "ipython",
    "version": 3
   },
   "file_extension": ".py",
   "mimetype": "text/x-python",
   "name": "python",
   "nbconvert_exporter": "python",
   "pygments_lexer": "ipython3",
   "version": "3.9.12"
  },
  "vscode": {
   "interpreter": {
    "hash": "aee8b7b246df8f9039afb4144a1f6fd8d2ca17a180786b69acc140d282b71a49"
   }
  }
 },
 "nbformat": 4,
 "nbformat_minor": 2
}
